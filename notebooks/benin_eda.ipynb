{
 "cells": [
  {
   "cell_type": "code",
   "execution_count": null,
   "metadata": {
    "vscode": {
     "languageId": "plaintext"
    }
   },
   "outputs": [],
   "source": [
    "import pandas as pd\n",
    "import numpy as np\n",
    "import matplotlib.pyplot as plt\n",
    "import seaborn as sns\n",
    "from scipy import stats\n",
    "\n",
    "# Load data\n",
    "df = pd.read_csv('../data/benin.csv')\n",
    "\n",
    "# Handle missing values\n",
    "missing = df.isna().sum()\n",
    "threshold = 0.05 * len(df)\n",
    "cols_to_drop = missing[missing > threshold].index\n",
    "df_clean = df.drop(columns=cols_to_drop)\n",
    "\n",
    "# Impute median for key columns\n",
    "key_cols = ['GHI', 'DNI', 'DHI', 'WS']\n",
    "for col in key_cols:\n",
    "    df_clean[col].fillna(df_clean[col].median(), inplace=True)\n",
    "\n",
    "# Remove outliers using Z-scores\n",
    "z_scores = np.abs(stats.zscore(df_clean[key_cols]))\n",
    "df_clean = df_clean[(z_scores < 3).all(axis=1)]\n",
    "\n",
    "# Time series plot\n",
    "df_clean['Timestamp'] = pd.to_datetime(df_clean['Timestamp'])\n",
    "df_clean.set_index('Timestamp', inplace=True)\n",
    "df_clean['GHI'].resample('D').mean().plot(title='Daily GHI Trends')\n",
    "plt.show()\n",
    "\n",
    "# Export cleaned data\n",
    "df_clean.to_csv('../data/benin_clean.csv', index=False)"
   ]
  }
 ],
 "metadata": {
  "language_info": {
   "name": "python"
  }
 },
 "nbformat": 4,
 "nbformat_minor": 2
}
