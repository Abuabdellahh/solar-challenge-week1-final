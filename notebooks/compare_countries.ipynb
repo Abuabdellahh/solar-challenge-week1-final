{
 "cells": [
  {
   "cell_type": "code",
   "execution_count": null,
   "metadata": {
    "vscode": {
     "languageId": "plaintext"
    }
   },
   "outputs": [],
   "source": [
    "import pandas as pd\n",
    "import seaborn as sns\n",
    "\n",
    "# Load cleaned data\n",
    "benin = pd.read_csv('data/benin_clean.csv').assign(country='Benin')\n",
    "sierra = pd.read_csv('data/sierraleone_clean.csv').assign(country='Sierra Leone')\n",
    "togo = pd.read_csv('data/togo_clean.csv').assign(country='Togo')\n",
    "\n",
    "combined = pd.concat([benin, sierra, togo])\n",
    "\n",
    "# Boxplot comparison\n",
    "sns.boxplot(x='country', y='GHI', data=combined)\n",
    "plt.title('GHI Comparison by Country')\n",
    "plt.show()\n",
    "\n",
    "# Summary statistics\n",
    "summary = combined.groupby('country')[['GHI', 'DNI', 'DHI']].agg(['mean', 'median', 'std'])\n",
    "print(summary)"
   ]
  }
 ],
 "metadata": {
  "language_info": {
   "name": "python"
  }
 },
 "nbformat": 4,
 "nbformat_minor": 2
}
