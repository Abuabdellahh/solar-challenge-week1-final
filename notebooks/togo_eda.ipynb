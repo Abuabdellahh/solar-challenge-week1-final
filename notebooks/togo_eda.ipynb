{
 "cells": [
  {
   "cell_type": "code",
   "execution_count": null,
   "metadata": {
    "vscode": {
     "languageId": "plaintext"
    }
   },
   "outputs": [],
   "source": [
    "{\n",
    " \"cells\": [\n",
    "  {\n",
    "   \"cell_type\": \"markdown\",\n",
    "   \"metadata\": {},\n",
    "   \"source\": [\n",
    "    \"# Togo EDA\\n\",\n",
    "    \"\\n\",\n",
    "    \"Exploratory Data Analysis for Togo's solar dataset.\"\n",
    "   ]\n",
    "  },\n",
    "  {\n",
    "   \"cell_type\": \"code\",\n",
    "   \"execution_count\": null,\n",
    "   \"metadata\": {},\n",
    "   \"outputs\": [],\n",
    "   \"source\": [\n",
    "    \"import pandas as pd\\n\",\n",
    "    \"from src.data_cleaning import DataCleaner\\n\",\n",
    "    \"from src.eda import EDA\\n\",\n",
    "    \"\\n\",\n",
    "    \"# Load data\\n\",\n",
    "    \"df = pd.read_csv('../data/togo.csv')\\n\",\n",
    "    \"\\n\",\n",
    "    \"# Clean data\\n\",\n",
    "    \"cleaner = DataCleaner(df, 'togo')\\n\",\n",
    "    \"summary, missing, high_missing = cleaner.profile_data()\\n\",\n",
    "    \"print('Summary Statistics:\\\\n', summary)\\n\",\n",
    "    \"print('\\\\nMissing Values:\\\\n', missing)\\n\",\n",
    "    \"print('\\\\nColumns with >5% Missing:\\\\n', high_missing)\\n\",\n",
    "    \"df_clean = cleaner.clean_data()\\n\",\n",
    "    \"\\n\",\n",
    "    \"# Perform EDA\\n\",\n",
    "    \"eda = EDA(df_clean, 'togo')\\n\",\n",
    "    \"eda.time_series_plots()\\n\",\n",
    "    \"eda.cleaning_impact()\\n\",\n",
    "    \"eda.correlation_heatmap()\\n\",\n",
    "    \"eda.scatter_plots()\\n\",\n",
    "    \"eda.wind_rose()\\n\",\n",
    "    \"eda.histograms()\\n\",\n",
    "    \"eda.bubble_chart()\"\n",
    "   ]\n",
    "  }\n",
    " ],\n",
    " \"metadata\": {\n",
    "  \"kernelspec\": {\n",
    "   \"display_name\": \"Python 3\",\n",
    "   \"language\": \"python\",\n",
    "   \"name\": \"python3\"\n",
    "  },\n",
    "  \"language_info\": {\n",
    "   \"codemirror_mode\": {\n",
    "    \"name\": \"ipython\",\n",
    "    \"version\": 3\n",
    "   },\n",
    "   \"file_extension\": \".py\",\n",
    "   \"mimetype\": \"text/x-python\",\n",
    "   \"name\": \"python\",\n",
    "   \"nbconvert_exporter\": \"python\",\n",
    "   \"pygments_lexer\": \"ipython3\",\n",
    "   \"version\": \"3.11.0\"\n",
    "  }\n",
    " },\n",
    " \"nbformat\": 4,\n",
    " \"nbformat_minor\": 2\n",
    "}"
   ]
  }
 ],
 "metadata": {
  "language_info": {
   "name": "python"
  }
 },
 "nbformat": 4,
 "nbformat_minor": 2
}
