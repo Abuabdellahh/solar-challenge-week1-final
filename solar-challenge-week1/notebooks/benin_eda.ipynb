{
 "cells": [
  {
   "cell_type": "code",
   "execution_count": null,
   "metadata": {},
   "outputs": [],
   "source": [
    "# Sample EDA notebook structure\n",
    "import pandas as pd\n",
    "from src.data_cleaner import DataCleaner\n",
    "from src.visualization import SolarVisualizer\n",
    "\n",
    "# Load data\n",
    "cleaner = DataCleaner('../data/benin.csv')\n",
    "df = cleaner.handle_missing_values().remove_outliers(['GHI', 'DNI', 'DHI'])\n",
    "\n",
    "# Save cleaned data\n",
    "df.to_csv('../data/benin_clean.csv', index=False)\n",
    "\n",
    "# Initialize visualizer\n",
    "viz = SolarVisualizer(df)\n",
    "\n",
    "# Time series analysis\n",
    "plt = viz.plot_time_series('GHI', 'Benin GHI Over Time')\n",
    "plt.show()\n",
    "\n",
    "# Correlation analysis\n",
    "corr_plt = viz.plot_correlation_heatmap(['GHI', 'DNI', 'DHI', 'Tamb', 'RH'])\n",
    "corr_plt.show()"
   ]
  }
 ],
 "metadata": {
  "language_info": {
   "name": "python"
  }
 },
 "nbformat": 4,
 "nbformat_minor": 2
}
