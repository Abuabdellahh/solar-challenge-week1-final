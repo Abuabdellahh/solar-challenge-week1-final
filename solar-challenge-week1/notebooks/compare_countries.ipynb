{
 "cells": [
  {
   "cell_type": "code",
   "execution_count": null,
   "metadata": {},
   "outputs": [],
   "source": [
    "import pandas as pd\n",
    "from src.visualization import SolarVisualizer\n",
    "\n",
    "# Load cleaned data\n",
    "benin = pd.read_csv('../data/benin_clean.csv')\n",
    "sierra = pd.read_csv('../data/sierraleone_clean.csv')\n",
    "togo = pd.read_csv('../data/togo_clean.csv')\n",
    "\n",
    "# Add country labels\n",
    "benin['country'] = 'Benin'\n",
    "sierra['country'] = 'Sierra Leone'\n",
    "togo['country'] = 'Togo'\n",
    "\n",
    "# Combine datasets\n",
    "combined = pd.concat([benin, sierra, togo])\n",
    "\n",
    "# Comparative analysis\n",
    "viz = SolarVisualizer(combined)\n",
    "\n",
    "# Boxplot comparison\n",
    "plt = viz.plot_boxplots('GHI', combined)\n",
    "plt.show()\n",
    "\n",
    "# Statistical summary\n",
    "summary = combined.groupby('country')['GHI'].agg(['mean', 'median', 'std'])\n",
    "print(summary)"
   ]
  }
 ],
 "metadata": {
  "language_info": {
   "name": "python"
  }
 },
 "nbformat": 4,
 "nbformat_minor": 2
}
